{
 "cells": [
  {
   "cell_type": "markdown",
   "metadata": {},
   "source": [
    "# What is HTML?\n",
    "- HTML stands for Hyper Text Markup Language\n",
    "- HTML is the standard markup language for creating Web pages\n",
    "- HTML describes the structure of a Web page\n",
    "- HTML consists of a series of elements\n",
    "- HTML elements tell the browser how to display the content\n",
    "- HTML elements label pieces of content such as \"this is a heading\", \"this is a paragraph\", \"this is a link\", etc."
   ]
  },
  {
   "cell_type": "code",
   "execution_count": null,
   "metadata": {
    "dotnet_interactive": {
     "language": "html"
    },
    "polyglot_notebook": {
     "kernelName": "html"
    },
    "vscode": {
     "languageId": "polyglot-notebook"
    }
   },
   "outputs": [],
   "source": [
    "<!DOCTYPE html>\n",
    "<html>\n",
    "<head>\n",
    "<title>Page Title</title>\n",
    "</head>\n",
    "<body>\n",
    "\n",
    "<h1>My First Heading</h1>\n",
    "<p>My first paragraph.</p>\n",
    "\n",
    "</body>\n",
    "</html>"
   ]
  },
  {
   "cell_type": "markdown",
   "metadata": {},
   "source": [
    "### Example Explained\n",
    "- The `<!DOCTYPE html>` declaration defines that this document is an HTML5 document\n",
    "- The `<html>` element is the root element of an HTML page\n",
    "- The `<head>` element contains meta information about the HTML page\n",
    "- The `<title>` element specifies a title for the HTML page (which is shown in the browser's title bar or in the page's tab)\n",
    "- The `<body>` element defines the document's body, and is a container for all the visible contents, such as headings, paragraphs, images, hyperlinks, tables, lists, etc.\n",
    "- The `<h1>` element defines a large heading\n",
    "- The `<p>` element defines a paragraph\n",
    "\n",
    "### What is an HTML Element?\n",
    "\n",
    "An HTML element is defined by a start tag, some content, and an end tag:\n",
    "\n",
    "`<tagname>` Content goes here... `</tagname>`\n",
    "\n",
    "The HTML **element** is everything from the start tag to the end tag:\n",
    "\n",
    "`<h1>My First Heading</h1>`\n",
    "\n",
    "`<p>My first paragraph.</p>`\n",
    "\n",
    "| Start tag | Element content      | End tag  |\n",
    "|-----------|----------------------|----------|\n",
    "| `<h1> `    | My First Heading     | `</h1>`    |\n",
    "| `<p> `     | My first paragraph.  | `</p>`   |\n",
    "| `<br>`      | none                 | none     |\n",
    "\n",
    "Note: Some HTML elements have no content (like the `<br>` element). These elements are called empty elements. Empty elements do not have an end tag!\n",
    "\n",
    "\n"
   ]
  }
 ],
 "metadata": {
  "language_info": {
   "name": "python"
  }
 },
 "nbformat": 4,
 "nbformat_minor": 2
}
