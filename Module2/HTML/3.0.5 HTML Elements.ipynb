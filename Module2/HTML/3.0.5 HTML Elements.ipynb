{
 "cells": [
  {
   "cell_type": "markdown",
   "metadata": {},
   "source": [
    "# HTML Elements\n",
    "\n",
    "An HTML element is defined by a start tag, some content, and an end tag.\n",
    "\n",
    "### HTML Elements\n",
    "\n",
    "The HTML element is everything from the start tag to the end tag:\n",
    "\n",
    "- `<tagname>`Content goes here...`</tagname>`\n",
    "\n",
    "Examples of some HTML elements:\n",
    "\n",
    "- `<h1>`My First Heading`</h1>`\n",
    "- `<p>`My first paragraph.`</p>`\n",
    "\n",
    "### Explanation\n",
    "\n",
    "| Start tag | Element content      | End tag  |\n",
    "|-----------|----------------------|----------|\n",
    "| `<h1>`     | My First Heading     | `</h1>`    |\n",
    "| `<p>`       | My first paragraph.  | `</p>`    |\n",
    "| `<br>`      | none                 | none     |\n",
    "\n",
    "### Nested HTML Elements\n",
    "\n",
    "- HTML elements can be nested (this means that elements can contain other elements).\n",
    "- All HTML documents consist of nested HTML elements.\n",
    "\n",
    "The following example contains four HTML elements (`<html>`, `<body>`, `<h1>` and `<p>`):"
   ]
  },
  {
   "cell_type": "code",
   "execution_count": null,
   "metadata": {
    "vscode": {
     "languageId": "html"
    }
   },
   "outputs": [],
   "source": [
    "<!DOCTYPE html>\n",
    "<html>\n",
    "<body>\n",
    "\n",
    "<h1>My First Heading</h1>\n",
    "<p>My first paragraph.</p>\n",
    "\n",
    "</body>\n",
    "</html>"
   ]
  },
  {
   "cell_type": "markdown",
   "metadata": {},
   "source": [
    "The `<html>` element is the root element and it defines the whole HTML document.\n",
    "\n",
    "It has a start tag `<html>` (Line 2) and an end tag `</html>` (Line 9).\n",
    "\n",
    "Then, inside the `<html>` element there is a `<body>` element (Lines 3 to 8)."
   ]
  },
  {
   "cell_type": "code",
   "execution_count": null,
   "metadata": {
    "vscode": {
     "languageId": "html"
    }
   },
   "outputs": [],
   "source": [
    "<body>\n",
    "\n",
    "    <h1>My First Heading</h1>\n",
    "    <p>My first paragraph.</p>\n",
    "\n",
    "</body>"
   ]
  },
  {
   "cell_type": "markdown",
   "metadata": {},
   "source": [
    "The `<body>` element defines the document's body.\n",
    "\n",
    "It has a start tag `<body>` and an end tag `</body>`.\n",
    "\n",
    "Then, inside the `<body>` element there are two other elements: `<h1>` and `<p>`:"
   ]
  },
  {
   "cell_type": "code",
   "execution_count": null,
   "metadata": {
    "vscode": {
     "languageId": "html"
    }
   },
   "outputs": [],
   "source": [
    "<h1>My First Heading</h1>\n",
    "<p>My first paragraph.</p>"
   ]
  },
  {
   "cell_type": "markdown",
   "metadata": {},
   "source": [
    "The `<h1>` element defines a heading.\n",
    "\n",
    "It has a start tag `<h1>` and an end tag `</h1>`:"
   ]
  },
  {
   "cell_type": "code",
   "execution_count": null,
   "metadata": {
    "vscode": {
     "languageId": "html"
    }
   },
   "outputs": [],
   "source": [
    "<h1>My First Heading</h1>"
   ]
  },
  {
   "cell_type": "markdown",
   "metadata": {},
   "source": [
    "The `<p>` element defines a paragraph.\n",
    "\n",
    "It has a start tag `<p>` and an end tag `</p>`:"
   ]
  },
  {
   "cell_type": "code",
   "execution_count": null,
   "metadata": {
    "vscode": {
     "languageId": "html"
    }
   },
   "outputs": [],
   "source": [
    "<p>My first paragraph.</p>"
   ]
  },
  {
   "cell_type": "markdown",
   "metadata": {},
   "source": [
    "### Never Skip the End Tag\n",
    "\n",
    "Some HTML elements will display correctly, even if you forget the end tag:"
   ]
  },
  {
   "cell_type": "code",
   "execution_count": null,
   "metadata": {
    "vscode": {
     "languageId": "html"
    }
   },
   "outputs": [],
   "source": [
    "<html>\n",
    "<body>\n",
    "\n",
    "<p>This is a paragraph\n",
    "<p>This is a paragraph\n",
    "\n",
    "</body>\n",
    "</html>"
   ]
  },
  {
   "cell_type": "markdown",
   "metadata": {},
   "source": [
    "However, never rely on this! Unexpected results and errors may occur if you forget the end tag!"
   ]
  },
  {
   "cell_type": "markdown",
   "metadata": {},
   "source": [
    "### Empty HTML Elements\n",
    "\n",
    "HTML elements with no content are called empty elements.\n",
    "\n",
    "The `<br>` tag defines a line break, and is an empty element without a closing tag:"
   ]
  },
  {
   "cell_type": "code",
   "execution_count": null,
   "metadata": {
    "vscode": {
     "languageId": "html"
    }
   },
   "outputs": [],
   "source": [
    "<p>This is a <br> paragraph with a line break.</p>"
   ]
  },
  {
   "cell_type": "markdown",
   "metadata": {},
   "source": [
    "### HTML is Not Case Sensitive\n",
    "\n",
    "HTML tags are not case sensitive: `<P>` means the same as `<p>`.\n",
    "\n",
    "The HTML standard does not require lowercase tags, but W3C recommends lowercase in HTML, and demands lowercase for stricter document types like XHTML."
   ]
  }
 ],
 "metadata": {
  "language_info": {
   "name": "python"
  }
 },
 "nbformat": 4,
 "nbformat_minor": 2
}
