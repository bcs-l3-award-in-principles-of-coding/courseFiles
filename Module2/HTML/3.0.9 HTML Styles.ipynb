{
 "cells": [
  {
   "cell_type": "markdown",
   "metadata": {},
   "source": [
    "# HTML Styles\n",
    "\n",
    "The HTML style attribute is used to add styles to an element, such as color, font, size, and more."
   ]
  },
  {
   "cell_type": "code",
   "execution_count": null,
   "metadata": {
    "dotnet_interactive": {
     "language": "html"
    },
    "polyglot_notebook": {
     "kernelName": "html"
    },
    "vscode": {
     "languageId": "polyglot-notebook"
    }
   },
   "outputs": [],
   "source": [
    "<p>I am normal</p>\n",
    "<p style=\"color:red;\">I am red</p>\n",
    "<p style=\"color:blue;\">I am blue</p>\n",
    "<p style=\"font-size:50px;\">I am big</p>"
   ]
  },
  {
   "cell_type": "markdown",
   "metadata": {},
   "source": [
    "## The HTML Style Attribute\n",
    "\n",
    "Setting the style of an HTML element, can be done with the style attribute.\n",
    "\n",
    "The HTML style attribute has the following syntax:\n",
    "\n",
    "`<tagname style=\"property:value;\">`\n",
    "\n",
    "The property is a CSS property. The value is a CSS value.\n",
    "\n",
    "You will learn more about CSS later on."
   ]
  },
  {
   "cell_type": "markdown",
   "metadata": {},
   "source": [
    "# Background Color\n",
    "\n",
    "The CSS background-color property defines the background color for an HTML element."
   ]
  },
  {
   "cell_type": "code",
   "execution_count": null,
   "metadata": {
    "dotnet_interactive": {
     "language": "html"
    },
    "polyglot_notebook": {
     "kernelName": "html"
    },
    "vscode": {
     "languageId": "polyglot-notebook"
    }
   },
   "outputs": [],
   "source": [
    "<div style=\"background-color:blue;\">\n",
    "\n",
    "    <h1>This is a heading</h1>\n",
    "    <p>This is a paragraph.</p>\n",
    "    \n",
    "</div>"
   ]
  },
  {
   "cell_type": "markdown",
   "metadata": {},
   "source": [
    "Set the background colour for two seperate elements:"
   ]
  },
  {
   "cell_type": "code",
   "execution_count": null,
   "metadata": {
    "dotnet_interactive": {
     "language": "html"
    },
    "polyglot_notebook": {
     "kernelName": "html"
    },
    "vscode": {
     "languageId": "polyglot-notebook"
    }
   },
   "outputs": [],
   "source": [
    "<body>\n",
    "\n",
    "    <h1 style=\"background-color:blue;\">This is a heading</h1>\n",
    "    <p style=\"background-color:tomato;\">This is a paragraph.</p>\n",
    "    \n",
    "</body>"
   ]
  },
  {
   "cell_type": "markdown",
   "metadata": {},
   "source": [
    "# Text Colour\n",
    "\n",
    "The CSS color property defines the text color for an HTML element:\n"
   ]
  },
  {
   "cell_type": "code",
   "execution_count": null,
   "metadata": {
    "dotnet_interactive": {
     "language": "html"
    },
    "polyglot_notebook": {
     "kernelName": "html"
    },
    "vscode": {
     "languageId": "polyglot-notebook"
    }
   },
   "outputs": [],
   "source": [
    "<h1 style=\"color:powderblue;\">This is a heading</h1>\n",
    "<p style=\"color:red;\">This is a paragraph.</p>"
   ]
  },
  {
   "cell_type": "markdown",
   "metadata": {},
   "source": [
    "## Fonts\n",
    "The CSS `font-family` property defines the font to be used for an HTML element:"
   ]
  },
  {
   "cell_type": "code",
   "execution_count": null,
   "metadata": {
    "dotnet_interactive": {
     "language": "csharp"
    },
    "polyglot_notebook": {
     "kernelName": "csharp"
    },
    "vscode": {
     "languageId": "polyglot-notebook"
    }
   },
   "outputs": [],
   "source": [
    "<h1 style=\"font-family:verdana;\">This is a heading</h1>\n",
    "<p style=\"font-family:courier;\">This is a paragraph.</p>"
   ]
  },
  {
   "cell_type": "markdown",
   "metadata": {},
   "source": [
    "## Text Size\n",
    "The CSS font-size property defines the text size for an HTML element:"
   ]
  },
  {
   "cell_type": "code",
   "execution_count": null,
   "metadata": {
    "dotnet_interactive": {
     "language": "csharp"
    },
    "polyglot_notebook": {
     "kernelName": "csharp"
    },
    "vscode": {
     "languageId": "polyglot-notebook"
    }
   },
   "outputs": [],
   "source": [
    "<h1 style=\"font-size:300%;\">This is a heading</h1>\n",
    "<p style=\"font-size:160%;\">This is a paragraph.</p>"
   ]
  },
  {
   "cell_type": "markdown",
   "metadata": {},
   "source": [
    "## Text Alignment\n",
    "The CSS text-align property defines the horizontal text alignment for an HTML element:"
   ]
  },
  {
   "cell_type": "code",
   "execution_count": null,
   "metadata": {
    "dotnet_interactive": {
     "language": "html"
    },
    "polyglot_notebook": {
     "kernelName": "html"
    },
    "vscode": {
     "languageId": "polyglot-notebook"
    }
   },
   "outputs": [],
   "source": [
    "<h1 style=\"text-align:center;\">Centered Heading</h1>\n",
    "<p style=\"text-align:center;\">Centered paragraph.</p>"
   ]
  }
 ],
 "metadata": {
  "language_info": {
   "name": "python"
  }
 },
 "nbformat": 4,
 "nbformat_minor": 2
}
