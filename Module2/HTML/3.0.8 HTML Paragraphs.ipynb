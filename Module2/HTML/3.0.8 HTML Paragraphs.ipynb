{
 "cells": [
  {
   "cell_type": "markdown",
   "metadata": {},
   "source": [
    "# HTML Paragraphs\n",
    "\n",
    "A paragraph always starts on a new line, and is usually a block of text.\n",
    "\n",
    "The HTML `<p>` element defines a paragraph.\n",
    "\n",
    "A paragraph always starts on a new line, and browsers automatically add some white space (a margin) before and after a paragraph."
   ]
  },
  {
   "cell_type": "code",
   "execution_count": null,
   "metadata": {
    "vscode": {
     "languageId": "polyglot-notebook"
    }
   },
   "outputs": [],
   "source": [
    "<p>This is a paragraph.</p>\n",
    "<p>This is another paragraph.</p>"
   ]
  },
  {
   "cell_type": "markdown",
   "metadata": {},
   "source": [
    "## HTML Display\n",
    "\n",
    "You cannot be sure how HTML will be displayed.\n",
    "\n",
    "- Large or small screens, and resized windows will create different results.\n",
    "- With HTML, you cannot change the display by adding extra spaces or extra lines in your HTML code.\n",
    "- The browser will automatically remove any extra spaces and lines when the page is displayed:"
   ]
  },
  {
   "cell_type": "code",
   "execution_count": null,
   "metadata": {
    "vscode": {
     "languageId": "polyglot-notebook"
    }
   },
   "outputs": [],
   "source": [
    "<p>\n",
    "This paragraph\n",
    "contains a lot of lines\n",
    "in the source code,\n",
    "but the browser\n",
    "ignores it.\n",
    "</p>\n",
    "\n",
    "<p>\n",
    "This paragraph\n",
    "contains         a lot of spaces\n",
    "in the source         code,\n",
    "but the        browser\n",
    "ignores it.\n",
    "</p>"
   ]
  },
  {
   "cell_type": "markdown",
   "metadata": {},
   "source": [
    "## HTML Horizontal Rules\n",
    "\n",
    "The `<hr>` tag defines a thematic break in an HTML page, and is most often displayed as a horizontal rule.\n",
    "\n",
    "The `<hr>` element is used to separate content (or define a change) in an HTML page.\n",
    "\n",
    "The `<hr>` tag is an empty tag, which means that it has no end tag."
   ]
  },
  {
   "cell_type": "code",
   "execution_count": null,
   "metadata": {
    "vscode": {
     "languageId": "polyglot-notebook"
    }
   },
   "outputs": [],
   "source": [
    "<h1>This is heading 1</h1>\n",
    "<p>This is some text.</p>\n",
    "<hr>\n",
    "<h2>This is heading 2</h2>\n",
    "<p>This is some other text.</p>\n",
    "<hr>"
   ]
  },
  {
   "cell_type": "markdown",
   "metadata": {},
   "source": [
    "## HTML Line Breaks\n",
    "\n",
    "The HTML `<br>` element defines a line break.\n",
    "\n",
    "Use `<br>` if you want a line break (a new line) without starting a new paragraph.\n",
    "\n",
    "The `<br>` tag is an empty tag, which means that it has no end tag."
   ]
  },
  {
   "cell_type": "code",
   "execution_count": null,
   "metadata": {
    "vscode": {
     "languageId": "polyglot-notebook"
    }
   },
   "outputs": [],
   "source": [
    "<p>This is<br>a paragraph<br>with line breaks.</p>"
   ]
  },
  {
   "cell_type": "markdown",
   "metadata": {},
   "source": [
    "## The Poem Problem\n",
    "\n",
    "This poem will display on a single line:"
   ]
  },
  {
   "cell_type": "code",
   "execution_count": null,
   "metadata": {
    "vscode": {
     "languageId": "polyglot-notebook"
    }
   },
   "outputs": [],
   "source": [
    "<p>\n",
    "  My Bonnie lies over the ocean.\n",
    "\n",
    "  My Bonnie lies over the sea.\n",
    "\n",
    "  My Bonnie lies over the ocean.\n",
    "\n",
    "  Oh, bring back my Bonnie to me.\n",
    "</p>"
   ]
  },
  {
   "cell_type": "markdown",
   "metadata": {},
   "source": [
    "To resolve this problem, you would use the `<pre>` element:"
   ]
  },
  {
   "cell_type": "code",
   "execution_count": 2,
   "metadata": {
    "dotnet_interactive": {
     "language": "html"
    },
    "polyglot_notebook": {
     "kernelName": "html"
    },
    "vscode": {
     "languageId": "polyglot-notebook"
    }
   },
   "outputs": [
    {
     "data": {
      "text/html": [
       "<pre>\r\n",
       "  My Bonnie lies over the ocean.\r\n",
       "\r\n",
       "  My Bonnie lies over the sea.\r\n",
       "\r\n",
       "  My Bonnie lies over the ocean.\r\n",
       "\r\n",
       "  Oh, bring back my Bonnie to me.\r\n",
       "</pre>"
      ]
     },
     "metadata": {},
     "output_type": "display_data"
    }
   ],
   "source": [
    "<pre>\n",
    "  My Bonnie lies over the ocean.\n",
    "\n",
    "  My Bonnie lies over the sea.\n",
    "\n",
    "  My Bonnie lies over the ocean.\n",
    "\n",
    "  Oh, bring back my Bonnie to me.\n",
    "</pre>"
   ]
  }
 ],
 "metadata": {
  "language_info": {
   "name": "python"
  }
 },
 "nbformat": 4,
 "nbformat_minor": 2
}
