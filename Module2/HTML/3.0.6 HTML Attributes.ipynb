{
 "cells": [
  {
   "cell_type": "markdown",
   "metadata": {},
   "source": [
    "# HTML Attributes\n",
    "\n",
    "HTML attributes provide additional information about HTML elements.\n",
    "\n",
    "## HTML Attributes\n",
    "\n",
    "- All HTML elements can have attributes\n",
    "- Attributes provide additional information about elements\n",
    "- Attributes are always specified in the start tag\n",
    "- Attributes usually come in name/value pairs like: `name=\"value\"`\n",
    "\n",
    "### The href Attribute\n",
    "\n",
    "The `<a>` tag defines a hyperlink. The href attribute specifies the URL of the page the link goes to:"
   ]
  },
  {
   "cell_type": "code",
   "execution_count": null,
   "metadata": {
    "vscode": {
     "languageId": "polyglot-notebook"
    }
   },
   "outputs": [],
   "source": [
    "<a href=\"https://www.peta.co.uk\">This is a link</a>"
   ]
  },
  {
   "cell_type": "markdown",
   "metadata": {},
   "source": [
    "### The `src` Attribute\n",
    "\n",
    "The `<img>` tag is used to embed an image in an HTML page. The src attribute specifies the path to the image to be displayed:"
   ]
  },
  {
   "cell_type": "code",
   "execution_count": null,
   "metadata": {
    "vscode": {
     "languageId": "polyglot-notebook"
    }
   },
   "outputs": [],
   "source": [
    "<img src=\"https://deadline.com/wp-content/uploads/2024/02/Dune-Part-Two-Dolby-Poster.jpg?w=1024\">"
   ]
  },
  {
   "cell_type": "markdown",
   "metadata": {},
   "source": [
    "There are two ways to specify the URL in the src attribute:\n",
    "\n",
    "1. **Absolute URL - Links to an external image that is hosted on another website**; External images might be under copyright. If you do not get permission to use it, you may be in violation of copyright laws. In addition, you cannot control external images; it can suddenly be removed or changed.\n",
    "\n",
    "2. **Relative URL - Links to an image that is hosted within the website.** Here, the URL does not include the domain name. If the URL begins without a slash, it will be relative to the current page. Example: src=\"img_girl.jpg\". If the URL begins with a slash, it will be relative to the domain.\n",
    "\n",
    "Tip: It is almost always best to use relative URLs. They will not break if you change domain."
   ]
  },
  {
   "cell_type": "markdown",
   "metadata": {},
   "source": [
    "### The `width` and `height` Attributes\n",
    "\n",
    "The `<img>` tag should also contain the width and height attributes, which specify the width and height of the image (in pixels):"
   ]
  },
  {
   "cell_type": "code",
   "execution_count": null,
   "metadata": {
    "vscode": {
     "languageId": "polyglot-notebook"
    }
   },
   "outputs": [],
   "source": [
    "<img src=\"https://deadline.com/wp-content/uploads/2024/02/Dune-Part-Two-Dolby-Poster.jpg?w=1024\" alt=\"Dune 2\" width=\"104\" height=\"142\">"
   ]
  },
  {
   "cell_type": "markdown",
   "metadata": {},
   "source": [
    "### The alt Attribute\n",
    "\n",
    "The required alt attribute for the `<img>` tag specifies an alternate text for an image, if the image for some reason cannot be displayed. This can be due to a slow connection, or an error in the src attribute, or if the user uses a screen reader."
   ]
  },
  {
   "cell_type": "code",
   "execution_count": null,
   "metadata": {
    "vscode": {
     "languageId": "polyglot-notebook"
    }
   },
   "outputs": [],
   "source": [
    "<img src=\"https://deadline.com/wp-content/uploads/2024/02/Dune-Part-Two-Dolby-Poster.jpg?w=1024\" alt=\"Dune 2\" width=\"104\" height=\"142\" alt=\"Dune 2 Movie Poster\">"
   ]
  },
  {
   "cell_type": "markdown",
   "metadata": {},
   "source": [
    "### The style Attribute\n",
    "\n",
    "The style attribute is used to add styles to an element, such as colour, font, size, and more."
   ]
  },
  {
   "cell_type": "code",
   "execution_count": null,
   "metadata": {
    "dotnet_interactive": {
     "language": "html"
    },
    "polyglot_notebook": {
     "kernelName": "html"
    },
    "vscode": {
     "languageId": "polyglot-notebook"
    }
   },
   "outputs": [],
   "source": [
    "<p style=\"color:red;\">This is a red paragraph.</p>"
   ]
  },
  {
   "cell_type": "markdown",
   "metadata": {},
   "source": [
    "### The lang Attribute\n",
    "\n",
    "You should always include the lang attribute inside the `<html>` tag, to declare the language of the Web page. This is meant to assist search engines and browsers.\n",
    "\n",
    "The following example specifies English as the language:"
   ]
  },
  {
   "cell_type": "code",
   "execution_count": null,
   "metadata": {
    "dotnet_interactive": {
     "language": "csharp"
    },
    "polyglot_notebook": {
     "kernelName": "csharp"
    },
    "vscode": {
     "languageId": "polyglot-notebook"
    }
   },
   "outputs": [],
   "source": [
    "<!DOCTYPE html>\n",
    "<html lang=\"en\">\n",
    "<body>\n",
    "...\n",
    "</body>\n",
    "</html>"
   ]
  },
  {
   "cell_type": "markdown",
   "metadata": {},
   "source": [
    "Country codes can also be added to the language code in the lang attribute. So, the first two characters define the language of the HTML page, and the last two characters define the country.\n",
    "\n",
    "The following example specifies English as the language and United States as the country:"
   ]
  },
  {
   "cell_type": "code",
   "execution_count": null,
   "metadata": {
    "dotnet_interactive": {
     "language": "csharp"
    },
    "polyglot_notebook": {
     "kernelName": "csharp"
    },
    "vscode": {
     "languageId": "polyglot-notebook"
    }
   },
   "outputs": [],
   "source": [
    "<!DOCTYPE html>\n",
    "<html lang=\"en-US\">\n",
    "<body>\n",
    "...\n",
    "</body>\n",
    "</html>"
   ]
  },
  {
   "cell_type": "markdown",
   "metadata": {},
   "source": [
    "### The title Attribute\n",
    "\n",
    "The title attribute defines some extra information about an element.\n",
    "\n",
    "The value of the title attribute will be displayed as a tooltip when you mouse over the element:"
   ]
  },
  {
   "cell_type": "code",
   "execution_count": null,
   "metadata": {
    "dotnet_interactive": {
     "language": "html"
    },
    "polyglot_notebook": {
     "kernelName": "html"
    },
    "vscode": {
     "languageId": "polyglot-notebook"
    }
   },
   "outputs": [],
   "source": [
    "<p title=\"I'm a tooltip\">This is a paragraph.</p>"
   ]
  }
 ],
 "metadata": {
  "language_info": {
   "name": "python"
  }
 },
 "nbformat": 4,
 "nbformat_minor": 2
}
