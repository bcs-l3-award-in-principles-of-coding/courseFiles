{
 "cells": [
  {
   "cell_type": "markdown",
   "metadata": {},
   "source": [
    "# HTML Basic Examples\n",
    "\n",
    "Now let's look at some basic HTML examples.\n",
    "\n",
    "Don't worry if we use tags you have not learned about yet.\n",
    "\n",
    "### HTML Documents\n",
    "\n",
    "- All HTML documents must start with a document type declaration: `<!DOCTYPE html>`.\n",
    "- The HTML document itself begins with `<html>` and ends with `</html>`.\n",
    "- The visible part of the HTML document is between `<body>` and `</body>`."
   ]
  },
  {
   "cell_type": "code",
   "execution_count": null,
   "metadata": {
    "dotnet_interactive": {
     "language": "html"
    },
    "polyglot_notebook": {
     "kernelName": "html"
    },
    "vscode": {
     "languageId": "polyglot-notebook"
    }
   },
   "outputs": [],
   "source": [
    "<!DOCTYPE html>\n",
    "<html>\n",
    "<body>\n",
    "\n",
    "<h1>My First Heading</h1>\n",
    "<p>My first paragraph.</p>\n",
    "\n",
    "</body>\n",
    "</html>"
   ]
  },
  {
   "cell_type": "markdown",
   "metadata": {},
   "source": [
    "### The `<!DOCTYPE>` Declaration\n",
    "\n",
    "- The `<!DOCTYPE>` declaration represents the document type, and helps browsers to display web pages correctly.\n",
    "- It must only appear once, at the top of the page (before any HTML tags).\n",
    "- The `<!DOCTYPE>` declaration is not case sensitive.\n",
    "- The `<!DOCTYPE>` declaration for HTML5 is:"
   ]
  },
  {
   "cell_type": "code",
   "execution_count": null,
   "metadata": {
    "dotnet_interactive": {
     "language": "html"
    },
    "polyglot_notebook": {
     "kernelName": "html"
    },
    "vscode": {
     "languageId": "polyglot-notebook"
    }
   },
   "outputs": [],
   "source": [
    "<!DOCTYPE html>"
   ]
  },
  {
   "cell_type": "markdown",
   "metadata": {},
   "source": [
    "### HTML Headings\n",
    "\n",
    "-HTML headings are defined with the `<h1>` to `<h6>` tags.\n",
    "- `<h1>` defines the most important heading. `<h6>` defines the least important heading: "
   ]
  },
  {
   "cell_type": "code",
   "execution_count": null,
   "metadata": {
    "dotnet_interactive": {
     "language": "html"
    },
    "polyglot_notebook": {
     "kernelName": "html"
    },
    "vscode": {
     "languageId": "polyglot-notebook"
    }
   },
   "outputs": [],
   "source": [
    "<h1>This is heading 1</h1>\n",
    "<h2>This is heading 2</h2>\n",
    "<h3>This is heading 3</h3>"
   ]
  },
  {
   "cell_type": "markdown",
   "metadata": {},
   "source": [
    "### HTML Paragraphs\n",
    "\n",
    "HTML paragraphs are defined with the `<p>` tag:\n"
   ]
  },
  {
   "cell_type": "code",
   "execution_count": null,
   "metadata": {
    "dotnet_interactive": {
     "language": "html"
    },
    "polyglot_notebook": {
     "kernelName": "html"
    },
    "vscode": {
     "languageId": "polyglot-notebook"
    }
   },
   "outputs": [],
   "source": [
    "<p>This is a paragraph.</p>\n",
    "<p>This is another paragraph.</p>"
   ]
  },
  {
   "cell_type": "markdown",
   "metadata": {},
   "source": [
    "### HTML Links\n",
    "\n",
    "HTML links are defined with the `<a>` tag:"
   ]
  },
  {
   "cell_type": "code",
   "execution_count": null,
   "metadata": {
    "dotnet_interactive": {
     "language": "html"
    },
    "polyglot_notebook": {
     "kernelName": "html"
    },
    "vscode": {
     "languageId": "polyglot-notebook"
    }
   },
   "outputs": [],
   "source": [
    "<a href=\"https://www.peta.co.uk\">This is a link</a>"
   ]
  },
  {
   "cell_type": "markdown",
   "metadata": {},
   "source": [
    "The link's destination is specified in the **href attribute**. \n",
    "\n",
    "Attributes are used to provide additional information about HTML elements.\n",
    "\n",
    "You will learn more about attributes in a later notebook."
   ]
  },
  {
   "cell_type": "markdown",
   "metadata": {},
   "source": [
    "### HTML Images\n",
    "\n",
    "HTML images are defined with the `<img>` tag.\n",
    "\n",
    "The source file (src), alternative text (alt), width, and height are provided as attributes:"
   ]
  },
  {
   "cell_type": "code",
   "execution_count": null,
   "metadata": {
    "dotnet_interactive": {
     "language": "html"
    },
    "polyglot_notebook": {
     "kernelName": "html"
    },
    "vscode": {
     "languageId": "polyglot-notebook"
    }
   },
   "outputs": [],
   "source": [
    "<img src=\"https://deadline.com/wp-content/uploads/2024/02/Dune-Part-Two-Dolby-Poster.jpg?w=1024\" alt=\"Dune 2\" width=\"104\" height=\"142\">"
   ]
  },
  {
   "cell_type": "markdown",
   "metadata": {},
   "source": [
    "### How to View HTML Source\n",
    "\n",
    "Have you ever seen a Web page and wondered \"Hey! How did they do that?\"\n",
    "\n",
    "- `View HTML Source Code:` Click CTRL + U in an HTML page, or right-click on the page and select \"View Page Source\". This will open a new tab containing the HTML source code of the page.\n",
    "- `Inspect an HTML Element:` Right-click on an element (or a blank area), and choose \"Inspect\" to see what elements are made up of (you will see both the HTML and the CSS). You can also edit the HTML or CSS on-the-fly in the Elements or Styles panel that opens."
   ]
  }
 ],
 "metadata": {
  "language_info": {
   "name": "python"
  }
 },
 "nbformat": 4,
 "nbformat_minor": 2
}
