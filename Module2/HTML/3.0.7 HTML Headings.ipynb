{
 "cells": [
  {
   "cell_type": "markdown",
   "metadata": {
    "tags": [
     ">"
    ]
   },
   "source": [
    "# HTML Headings\n",
    "\n",
    "HTML headings are titles or subtitles that you want to display on a webpage.\n",
    "\n",
    "They are defined with the `<h1>` to `<h6>` tags.\n",
    "\n",
    "<blockquote style=\"padding:1em;\">\n",
    "Headings play a crucial role in SEO (Search Engine Optimization) for several reasons:<br>\n",
    "\n",
    "Hierarchy and Structure: Headings provide a clear hierarchy and structure to your content. Search engines use this structure to understand the organization of your webpage and the relationship between different sections. Properly structured \n",
    "content improves readability and user experience, which are important factors for SEO.\n",
    "\n",
    "Keyword Optimization: Headings often contain important keywords related to the content of the page. Search engines give more weight to keywords found in headings, especially in the `<h1>` tag, as it is typically considered the most important\n",
    "heading on the page. By strategically placing relevant keywords in headings, you can improve the page's relevance for those keywords.>\n",
    "\n",
    "Featured Snippets: Search engines may use headings to generate featured snippets, which are highlighted search results displayed at the top of the search results page. Clear and informative headings increase the chances of your content being selected for featured snippets, driving more traffic to your website.\n",
    "\n",
    "Accessibility: Headings improve the accessibility of your content for users with disabilities, such as screen readers. Properly marked-up headings make it easier for these users to navigate and understand the content. Search engines also consider accessibility as a factor in ranking websites.\n",
    "\n",
    "User Experience Signals: User experience signals, such as bounce rate and time on page, indirectly impact SEO. Well-structured headings contribute to a positive user experience by guiding visitors through the content and making it easier to scan. Higher user engagement metrics can improve your website's SEO performance.\n",
    "\n",
    "In summary, headings are essential for both search engines and users. By using descriptive and relevant headings, you can enhance the visibility, readability, and accessibility of your content, ultimately improving your website's SEO performance.\n",
    "</blockquote>\n",
    "\n",
    "\n",
    "`<h1>` defines the most important heading. `<h6>` defines the least important heading."
   ]
  },
  {
   "cell_type": "code",
   "execution_count": null,
   "metadata": {
    "dotnet_interactive": {
     "language": "html"
    },
    "polyglot_notebook": {
     "kernelName": "html"
    },
    "vscode": {
     "languageId": "polyglot-notebook"
    }
   },
   "outputs": [],
   "source": [
    "<h1>Heading 1</h1>\n",
    "<h2>Heading 2</h2>\n",
    "<h3>Heading 3</h3>\n",
    "<h4>Heading 4</h4>\n",
    "<h5>Heading 5</h5>\n",
    "<h6>Heading 6</h6>"
   ]
  },
  {
   "cell_type": "markdown",
   "metadata": {},
   "source": [
    "Note: Browsers automatically add some white space (a margin) before and after a heading.\n",
    "Note: Use HTML headings for headings only. Don't use headings to make text BIG or bold."
   ]
  },
  {
   "cell_type": "markdown",
   "metadata": {},
   "source": [
    "## Bigger Headings\n",
    "\n",
    "Each HTML heading has a default size. However, you can specify the size for any heading with the style attribute, using the CSS font-size property:"
   ]
  },
  {
   "cell_type": "code",
   "execution_count": null,
   "metadata": {
    "dotnet_interactive": {
     "language": "html"
    },
    "polyglot_notebook": {
     "kernelName": "html"
    },
    "vscode": {
     "languageId": "polyglot-notebook"
    }
   },
   "outputs": [],
   "source": [
    "<!-- Standard size -->\n",
    "<h1>Heading 1</h1>\n",
    "\n",
    "<!-- Custom size -->\n",
    "<h1 style=\"font-size:60px;\">Heading 1</h1>"
   ]
  }
 ],
 "metadata": {
  "language_info": {
   "name": "python"
  }
 },
 "nbformat": 4,
 "nbformat_minor": 2
}
