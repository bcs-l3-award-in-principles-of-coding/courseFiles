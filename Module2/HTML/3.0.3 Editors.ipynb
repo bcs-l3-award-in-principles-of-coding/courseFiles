{
 "cells": [
  {
   "cell_type": "markdown",
   "metadata": {},
   "source": [
    "# HTML Editors\n",
    "\n",
    "A simple text editor is all you need to learn HTML or web pages can be created and modified by using professional HTML editors."
   ]
  }
 ],
 "metadata": {
  "language_info": {
   "name": "python"
  }
 },
 "nbformat": 4,
 "nbformat_minor": 2
}
