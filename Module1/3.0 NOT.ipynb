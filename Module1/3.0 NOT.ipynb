{
 "cells": [
  {
   "attachments": {
    "image.png": {
     "image/png": "[encoded data removed]"
    }
   },
   "cell_type": "markdown",
   "metadata": {},
   "source": [
    "\n",
    "# Working with Logic - NOT\n",
    "\n",
    "The NOT gate is a fundamental concept in logic and computing, differing from AND and OR gates. It's unique in its simplicity and power, playing a crucial role in decision-making processes, both in everyday life and in computing contexts. Let’s explore the NOT gate and its application through a relatable scenario.\n",
    "\n",
    "### What is a NOT Gate?\n",
    "A NOT gate, also known as an inverter, is a logic gate that reverses the input signal. If the input is true, the output is false, and vice versa. It operates with a single condition and flips its value.\n",
    "\n",
    "### Real-Life Example: Deciding to Go Outside\n",
    "Consider a simple decision-making scenario about whether to spend time outdoors:\n",
    "\n",
    "- You prefer to go outside when it's not raining.\n",
    "\n",
    "This decision is a perfect example of applying the NOT gate logic:\n",
    "\n",
    "![image.png](attachment:image.png)\n",
    "\n",
    "Condition: It is raining.\n",
    "\n",
    "Decision with NOT Logic: You will go outside if it is NOT raining.\n",
    "Here, the NOT gate inverts the condition of \"it is raining\" to make a decision. If \"it is raining\" is false (meaning it's not raining), then the decision to go outside becomes true, thanks to the NOT gate logic.\n"
   ]
  },
  {
   "cell_type": "code",
   "execution_count": null,
   "metadata": {
    "dotnet_interactive": {
     "language": "javascript"
    },
    "polyglot_notebook": {
     "kernelName": "javascript"
    },
    "vscode": {
     "languageId": "polyglot-notebook"
    }
   },
   "outputs": [],
   "source": [
    "function decideToGoOutside(isRaining) {\n",
    "    if (!isRaining) {\n",
    "        console.log(\"It's not raining. Let's go outside!\");\n",
    "    } else {\n",
    "        console.log(\"It's raining. Better stay inside.\");\n",
    "    }\n",
    "}\n",
    "\n",
    "// Example Usage:\n",
    "\n",
    "// Scenario 1: It is raining\n",
    "decideToGoOutside(true);  // Expected output: \"It's raining. Better stay inside.\"\n",
    "\n",
    "// Scenario 2: It is not raining\n",
    "decideToGoOutside(false); // Expected output: \"It's not raining. Let's go outside!\"\n"
   ]
  },
  {
   "cell_type": "markdown",
   "metadata": {},
   "source": [
    "#### Truth Table for NOT\n",
    "\n",
    "The NOT truth table is the simplest among logic gates, as it deals with a single input and its inversion. Here's what it looks like:\n",
    "\n",
    "| Input (Is it raining?) | Output (Go outside?) |\n",
    "|------------------------|----------------------|\n",
    "| True                   | False                |\n",
    "| False                  | True                 |\n",
    "\n",
    "#### Understanding the Table:\n",
    "- Row 1: If the input is true (it is raining), the output is false (do not go outside).\n",
    "- Row 2: If the input is false (it is not raining), the output is true (go outside).\n",
    "\n",
    "The truth table for NOT clearly illustrates the gate's inverting nature, emphasizing how a single condition's negation can influence decisions. This principle is crucial in logic and computing, offering a simple yet powerful tool for reversing conditions' effects.\n",
    "\n",
    "This table succinctly captures the essence of the NOT operation, demonstrating how a single input's inversion affects the decision-making process, such as deciding whether to go outside based on the weather condition.\n",
    "\n",
    "#### Example \n",
    "\n",
    "The JavaScript function shouldReceiveReminderEmail serves as a practical example of implementing basic logic operations in programming to make decisions based on user preferences. Specifically, it illustrates the use of the logical NOT operator (!) to determine whether a customer is eligible to receive marketing communications. This shows one way how simple logic can be applied in real-world applications, such as managing email subscriptions in digital marketing campaigns. "
   ]
  },
  {
   "cell_type": "code",
   "execution_count": 1,
   "metadata": {
    "dotnet_interactive": {
     "language": "javascript"
    },
    "polyglot_notebook": {
     "kernelName": "javascript"
    },
    "vscode": {
     "languageId": "polyglot-notebook"
    }
   },
   "outputs": [
    {
     "data": {
      "text/plain": [
       "Customer should receive the reminder email."
      ]
     },
     "metadata": {},
     "output_type": "display_data"
    },
    {
     "data": {
      "text/plain": [
       "Customer has opted out of marketing emails."
      ]
     },
     "metadata": {},
     "output_type": "display_data"
    }
   ],
   "source": [
    "function shouldReceiveReminderEmail(hasOptedOut) {\n",
    "  // Using the NOT operator to reverse the condition\n",
    "  if (!hasOptedOut) {\n",
    "    return \"Customer should receive the reminder email.\";\n",
    "  } else {\n",
    "    return \"Customer has opted out of marketing emails.\";\n",
    "  }\n",
    "}\n",
    "\n",
    "// Example Tests:\n",
    "console.log(shouldReceiveReminderEmail(false)); // Customer has not opted out\n",
    "console.log(shouldReceiveReminderEmail(true));  // Customer has opted out\n"
   ]
  },
  {
   "cell_type": "markdown",
   "metadata": {},
   "source": [
    "### Explanation:\n",
    "\n",
    "- if (!hasOptedOut) { ... } here, the NOT operator (!) is used to reverse the truthiness of the hasOptedOut variable. If hasOptedOut is false (meaning the customer hasn't opted out), the NOT operator turns it into true, and the condition inside the if statement is met.\n",
    "- This allows us to send emails to customers who are still interested in receiving marketing communications, ensuring we respect their preferences.\n",
    "- The function then returns a message based on whether the customer has opted out of marketing emails, guiding the execution of the email campaign.\n",
    "\n",
    "The use of NOT logic is straightforward but powerful, allowing for more nuanced control over conditions, especially in scenarios where you want to exclude specific segments from your marketing efforts."
   ]
  }
 ],
 "metadata": {
  "language_info": {
   "name": "python"
  }
 },
 "nbformat": 4,
 "nbformat_minor": 2
}
